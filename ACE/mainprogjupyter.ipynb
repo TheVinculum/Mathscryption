{
 "cells": [
  {
   "cell_type": "code",
   "execution_count": 188,
   "id": "aed0b814",
   "metadata": {},
   "outputs": [],
   "source": [
    "import random\n",
    "import pandas as pd\n",
    "#import numpy as np\n",
    "#import matplotlib.pyplot as plt\n",
    "#from scipy.stats import norm\n",
    "\n"
   ]
  },
  {
   "cell_type": "code",
   "execution_count": null,
   "id": "20245ca2",
   "metadata": {},
   "outputs": [],
   "source": [
    "numcards = ['2', '3', '4', '5', '6', '7', '8', '9', '10']\n",
    "opcards1 = ['+', '-', '/', '*', '']\n",
    "opcards2 = ['+', '-', '/', '*']\n",
    "\n",
    "Primelist = [2, 3, 5, 7, 11, 13, 17, 19, 23, 29, 31, 37, 41, 43, 47, 53, 59, 61, 67, 71, 73, 79, 83, 89, 97]\n",
    "Fibolist = [2, 3, 5, 8, 13, 21, 34, 55, 89]\n",
    "SqubeList = [1, 2, 4, 8, 9, 16, 25, 27, 36, 49, 64, 81, 100]\n",
    "\n",
    "Triggered = {\"Prime\": 0, \"Fibo\":0, \"Sqube\" : 0}\n",
    "Scores = {\"Prime\":[],\"Fibo\":[],\"Sqube\":[]}\n",
    "\n",
    "prevanswer = 0"
   ]
  },
  {
   "cell_type": "code",
   "execution_count": 190,
   "id": "6d10abf4",
   "metadata": {},
   "outputs": [],
   "source": [
    "\n",
    "\n",
    "def numextract(str):\n",
    "    \n",
    "    exp=str\n",
    "    \n",
    "    for symbol in opcards2:\n",
    "        exp = exp.replace(symbol, ',')\n",
    "    \n",
    "    return exp.split(',')\n",
    "\n"
   ]
  },
  {
   "cell_type": "code",
   "execution_count": null,
   "id": "942383e5",
   "metadata": {},
   "outputs": [],
   "source": [
    "def exprgen(numlimit):\n",
    "    answer = 0\n",
    "    while answer<1 or answer>100:   #critical point: cap range; right now its 1 to 100 inclusive\n",
    "        op = '0'\n",
    "        expr = ''\n",
    "\n",
    "        for i in range(numlimit):\n",
    "            num = random.choice(numcards)\n",
    "            expr += num\n",
    "                \n",
    "            if i < (numlimit-1):\n",
    "                if num == '10' or op == '':\n",
    "                    op = random.choice(opcards2)\n",
    "                else:\n",
    "                    op = random.choice(opcards1)    \n",
    "                expr += op\n",
    "        answer = int(eval(expr)) \n",
    "    return expr\n"
   ]
  },
  {
   "cell_type": "code",
   "execution_count": 192,
   "id": "54df698b",
   "metadata": {},
   "outputs": [],
   "source": [
    "\n",
    "def primes(val, numberlist):\n",
    "    \n",
    "    primemult = 0\n",
    "    if val in Primelist:\n",
    "        Triggered['Prime'] += 1\n",
    "        primemult = sum(1 for num in numberlist if num in Primelist)\n",
    "        Scores['Prime'].append(val*primemult)\n"
   ]
  },
  {
   "cell_type": "code",
   "execution_count": null,
   "id": "5ef00365",
   "metadata": {},
   "outputs": [],
   "source": [
    "def fibos (preval, val, numberlist):\n",
    "    fibotrigger = sum(1 for num in numberlist if num in Fibolist)\n",
    "    \n",
    "    if fibotrigger>1:     # critical point : how many fibos required to trigger; right now its one.\n",
    "        Triggered ['Fibo'] += 1\n",
    "        Scores['Fibo'].append(val + preval)"
   ]
  },
  {
   "cell_type": "code",
   "execution_count": 194,
   "id": "e2db5a12",
   "metadata": {},
   "outputs": [],
   "source": [
    "def squbes (val, numlist):\n",
    "    digsum = 0\n",
    "    for num in numlist:\n",
    "      if num in SqubeList:\n",
    "        digsum += num//10 + num%10 \n",
    "    \n",
    "    if digsum > 0:\n",
    "        Triggered['Sqube'] += 1\n",
    "        Scores['Sqube'].append(val+digsum)"
   ]
  },
  {
   "cell_type": "code",
   "execution_count": null,
   "id": "5a395816",
   "metadata": {},
   "outputs": [
    {
     "name": "stdout",
     "output_type": "stream",
     "text": [
      "{'Prime': [21, 9, 0, 83, 14, 7, 21, 6, 4, 11, 2, 38, 37, 10, 0, 17, 6, 159, 10, 2, 97, 11, 10, 62, 111, 3, 9, 7, 39, 6, 14, 44, 10, 7, 17, 7, 67, 13, 33, 57], 'Fibo': [52, 48, 74, 133, 83, 61, 13, 87, 36, 106, 17, 87, 63, 56, 58, 41, 57, 40, 16, 36, 68, 45, 27, 29, 15, 108, 116, 82, 25, 93, 48, 102, 99, 18, 15, 24, 62, 56, 21, 50, 23, 93, 81], 'Sqube': [16, 12, 24, 52, 41, 62, 98, 16, 72, 57, 22, 9, 89, 11, 21, 24, 53, 17, 11, 12, 105, 32, 41, 19, 24, 80, 30, 72, 12, 55, 24, 11, 35, 34, 29, 61, 60, 19, 15, 40, 46, 19, 18, 33, 58, 18, 23, 28, 14, 55, 79, 21, 17, 99, 50, 14, 109, 17, 13, 23, 16, 16, 23, 12, 31, 19, 77, 56, 25, 25, 24, 29, 21, 88, 35, 28]}\n",
      "{'Prime': 40, 'Fibo': 43, 'Sqube': 76}\n"
     ]
    }
   ],
   "source": [
    "\n",
    "\n",
    "for i in range (100):      #critical point: the number of sims to run     #also, run collective simualtions or five turns each with preval resetting at start of each turn\n",
    "    expr = (exprgen(4))    #critical point: the numbers in the exoression generate: right now 4   (should do them for 3 aswell)\n",
    "    answer = int(eval(expr))\n",
    "    nums = [int(x) for x in numextract(expr)]\n",
    "    fibos(prevanswer,answer, nums)\n",
    "    primes(answer, nums)\n",
    "    squbes(answer, nums)\n",
    "    prevanswer = answer\n",
    "\n",
    "print(Scores)     \n",
    "print(Triggered)\n",
    "\n",
    "#have to collect the data in pandas and analyze\n",
    "#have to plot curves using numpy, matplotlib\n"
   ]
  }
 ],
 "metadata": {
  "kernelspec": {
   "display_name": "Python 3",
   "language": "python",
   "name": "python3"
  },
  "language_info": {
   "codemirror_mode": {
    "name": "ipython",
    "version": 3
   },
   "file_extension": ".py",
   "mimetype": "text/x-python",
   "name": "python",
   "nbconvert_exporter": "python",
   "pygments_lexer": "ipython3",
   "version": "3.13.0"
  }
 },
 "nbformat": 4,
 "nbformat_minor": 5
}
